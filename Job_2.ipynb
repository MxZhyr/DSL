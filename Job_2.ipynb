{
  "nbformat": 4,
  "nbformat_minor": 0,
  "metadata": {
    "colab": {
      "name": "Job#2.ipynb",
      "provenance": [],
      "collapsed_sections": [],
      "authorship_tag": "ABX9TyPgpzLttprU8zJ7UZOFJrRU",
      "include_colab_link": true
    },
    "kernelspec": {
      "name": "python3",
      "display_name": "Python 3"
    },
    "language_info": {
      "name": "python"
    }
  },
  "cells": [
    {
      "cell_type": "markdown",
      "metadata": {
        "id": "view-in-github",
        "colab_type": "text"
      },
      "source": [
        "<a href=\"https://colab.research.google.com/github/MxZhyr/DSL/blob/main/Job_2.ipynb\" target=\"_parent\"><img src=\"https://colab.research.google.com/assets/colab-badge.svg\" alt=\"Open In Colab\"/></a>"
      ]
    },
    {
      "cell_type": "code",
      "metadata": {
        "id": "-TffS1DUQ8GZ"
      },
      "source": [
        "\n",
        "def findProdNonTerm(grammar):\n",
        "  ProdNonTerm = set()\n",
        "  while flag:\n",
        "      flag = False\n",
        "      for nonterm, rules in grammar['vars'].items():\n",
        "        if nonterm not in ProdNonTerm:\n",
        "          for rule in rules:\n",
        "            if all(map(lambda s: s in grammar['toks'] or s in ProdNonTerm, rule)):\n",
        "              flag = True\n",
        "              ProdNonTerm.add(nonterm)\n",
        "              break\n",
        "return ProdNonTerm\n",
        "\n",
        "def addNewNonTerms (grammar):\n",
        "    ProdNonTerm = findProdNonTerm(grammar)\n",
        "    newGrammar = copy.deepcopy(grammar)\n",
        "    NewNonTerms = dict()\n",
        "    for nonterm, defin in grammar['vars'].items():\n",
        "         if nonterm in ProdNonTerm:\n",
        "             for rules in defin:\n",
        "                 if checkTokenZ(rules, toks, ProdNonTerm):\n",
        "                    if nonterm in NewNonTerms.keys():\n",
        "                        NewNonTerms[nonterm].append(rules)\n",
        "                    else:\n",
        "                        NewNonTerms[nonterm] = list()\n",
        "                        NewNonTerms[nonterm].append(rules)\n",
        "    newGrammar['vars'] = NewNonTerms\n",
        "    return newGrammar\n",
        "    \n",
        "\n",
        "def deletDisap(grammar):\n",
        "    tokens = grammar['toks']\n",
        "    Empty = list()\n",
        "    flag = True\n",
        "    \n",
        "    while flag:\n",
        "        flag = False\n",
        "        for nonterm, rules in grammar['vars'].items():\n",
        "            for rule in rules:\n",
        "                if (map(lambda s: s == (0, ' ') or s in Empty, rule)):\n",
        "                    if nonterm not in emptySymb:\n",
        "                        emptySymb.append(nonterm)\n",
        "                        flag = True\n",
        "    return emptySymb"
      ],
      "execution_count": null,
      "outputs": []
    },
    {
      "cell_type": "code",
      "metadata": {
        "id": "u9G1QYDrrUSw"
      },
      "source": [
        "import copy\n",
        "grammar = { 'toks': list(\n",
        "                    [(0, ' '),\n",
        "                     (1, 'a'),\n",
        "                     (2, 'b'),\n",
        "                     (3, 'c'),\n",
        "                     (4, 'd')]\n",
        "                    ),\n",
        "            'vars': {\n",
        "                'A': [['B', (1, 'a')],\n",
        "                      ['D'],\n",
        "                      ['F', (2, 'b')]],\n",
        "                'B': [['B'],\n",
        "                      ['F', (3, 'c')]],\n",
        "                'C': [['C'],\n",
        "                      ['A',(4, 'd')],\n",
        "                      ['F', (1, 'a')]],\n",
        "                'D': [[(0, ' ')]],\n",
        "                'F': [\n",
        "                      ['B', (3, 'c')],\n",
        "                      ['F', (2, 'b')]]\n",
        "                    },\n",
        "            'hvar': 'A',\n",
        "            }"
      ],
      "execution_count": null,
      "outputs": []
    }
  ]
}