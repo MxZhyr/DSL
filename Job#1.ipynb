{
  "nbformat": 4,
  "nbformat_minor": 0,
  "metadata": {
    "colab": {
      "name": "Untitled0.ipynb",
      "provenance": [],
      "collapsed_sections": [],
      "authorship_tag": "ABX9TyPdrc/QJJgOK8kVojRFxayd",
      "include_colab_link": true
    },
    "kernelspec": {
      "name": "python3",
      "display_name": "Python 3"
    },
    "language_info": {
      "name": "python"
    }
  },
  "cells": [
    {
      "cell_type": "markdown",
      "metadata": {
        "id": "view-in-github",
        "colab_type": "text"
      },
      "source": [
        "<a href=\"https://colab.research.google.com/github/MxZhyr/DSL/blob/main/Job%231.ipynb\" target=\"_parent\"><img src=\"https://colab.research.google.com/assets/colab-badge.svg\" alt=\"Open In Colab\"/></a>"
      ]
    },
    {
      "cell_type": "markdown",
      "metadata": {
        "id": "cUTZH1ZkpBJs"
      },
      "source": [
        "Function preprocessing() converts the string into other data type: list, by breaking a string into pieces omiting all previously specified characters. \n",
        "\n",
        "The function preprocessing() is offering the solution to the problem of heaving an unwanted characters in the code, which is to be passed to a compiler later on "
      ]
    },
    {
      "cell_type": "code",
      "metadata": {
        "id": "n9WMz6gZDf0g"
      },
      "source": [
        "def preprocessing (text, whitespaces):\n",
        "\n",
        "  isWhiteSpace = lambda x: x in whitespaces \n",
        " \n",
        "  result = []\n",
        "  word = \"\"\n",
        "\n",
        "  for ch in text:                  \"\"\"Sepatating algorithm\"\"\"\n",
        "    if (not isWhiteSpace(ch)): \n",
        "      word += ch\n",
        "    elif (word == \"\" and isWhiteSpace(ch)):\n",
        "      continue\n",
        "    else: \n",
        "      result.append(word)\n",
        "      word = \"\"\n",
        "  result.append(word)\n",
        "  return result"
      ],
      "execution_count": 5,
      "outputs": []
    },
    {
      "cell_type": "markdown",
      "metadata": {
        "id": "Wuv2eooz1aLF"
      },
      "source": [
        "*whitespaces* - list of characters we want to omit\n",
        "\n",
        "*isWhiteSpace* - lambda function written to verificate if x is a member of *whitespaces* \n",
        "\n",
        "*result* - resulting list of tokens that we need to separate from *whitespaces* \n",
        "\n",
        "*word* - accumulating string variable used to concatenate separate characters of tokens while separating them from *whitespaces* using my simple algorithm*  \n",
        "\n",
        "*Sepatating alghorithm* - if current character is not a member of *whitespaces* list we add it to *word* \n",
        "\n",
        "in case it is - the algorithm checks if *word* is empty \n",
        "\n",
        "if it is - we coninue without making any changes\n",
        "\n",
        "if *word* is not empty - we add it to *result*\n"
      ]
    },
    {
      "cell_type": "code",
      "metadata": {
        "colab": {
          "base_uri": "https://localhost:8080/"
        },
        "id": "1bjLL60GpAOe",
        "outputId": "9ed01bf5-40c1-473d-c811-5084b107d348"
      },
      "source": [
        "text = \"By the pricking of my thumbs, Something wicked this way comes. Open, locks, Whoever knocks!\"\n",
        "whitespaces = [' ', '\\n', '\\t']\n",
        "print(preprocessing(text,whitespaces))"
      ],
      "execution_count": 6,
      "outputs": [
        {
          "output_type": "stream",
          "name": "stdout",
          "text": [
            "['By', 'the', 'pricking', 'of', 'my', 'thumbs', 'Something', 'wicked', 'this', 'way', 'comes.', 'Open', 'locks', 'Whoever', 'knocks!']\n"
          ]
        }
      ]
    }
  ]
}
